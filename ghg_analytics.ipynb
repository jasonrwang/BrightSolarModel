{
  "nbformat": 4,
  "nbformat_minor": 0,
  "metadata": {
    "colab": {
      "name": "ghg_analytics.ipynb",
      "version": "0.3.2",
      "provenance": [],
      "collapsed_sections": [],
      "include_colab_link": true
    },
    "kernelspec": {
      "name": "python3",
      "display_name": "Python 3"
    }
  },
  "cells": [
    {
      "cell_type": "markdown",
      "metadata": {
        "id": "view-in-github",
        "colab_type": "text"
      },
      "source": [
        "[View in Colaboratory](https://colab.research.google.com/github/jasonrwang/BrightSolarModel/blob/master/ghg_analytics.ipynb)"
      ]
    },
    {
      "metadata": {
        "id": "CSzetozGBCVj",
        "colab_type": "text"
      },
      "cell_type": "markdown",
      "source": [
        "# ghg_analytics\n",
        "## Insights into trends with global greenhouse gases and climate change action.\n",
        "\n",
        "### Authors:\n",
        "* Aashna Mittal\n",
        "* Gamze Ünlü\n",
        "* Jason R Wang"
      ]
    },
    {
      "metadata": {
        "id": "NNIfc0niBh3b",
        "colab_type": "code",
        "colab": {}
      },
      "cell_type": "code",
      "source": [
        "import numpy as py\n",
        "import pandas as pd\n",
        "import matplotlib.py as plt"
      ],
      "execution_count": 0,
      "outputs": []
    },
    {
      "metadata": {
        "id": "xtIp1QE_BB7k",
        "colab_type": "text"
      },
      "cell_type": "markdown",
      "source": [
        ""
      ]
    }
  ]
}